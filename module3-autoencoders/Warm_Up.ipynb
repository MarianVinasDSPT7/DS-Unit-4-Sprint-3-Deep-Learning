{
 "cells": [
  {
   "cell_type": "markdown",
   "metadata": {},
   "source": [
    "Auto-Encoder Warm Up"
   ]
  },
  {
   "cell_type": "code",
   "execution_count": 1,
   "metadata": {},
   "outputs": [],
   "source": [
    "import keras\n",
    "from keras import layers\n",
    "\n",
    "# This si the size of our encoded representations\n",
    "encoding_dim = 32 # 32 floats => compression of factor 24.5, assuming the input is 784 floats\n",
    "\n",
    "# This is our input image\n",
    "input_img = keras.Input(shape=(784,))\n",
    "\n",
    "# 'encoded' is the encoded representation of the input\n",
    "encoded = layers.Dense(encoding_dim, activation='relu')(input_img)\n",
    "\n",
    "# 'decoded' is the lossy reconstruction of the input\n",
    "decoded = layers.Dense(784, activation='sigmoid')(encoded)\n",
    "\n",
    "# This model maps an input to its reconstruction\n",
    "autoencoder= keras.Model(input_img, decoded)"
   ]
  },
  {
   "cell_type": "markdown",
   "metadata": {},
   "source": [
    "Create a separate encoder model:"
   ]
  },
  {
   "cell_type": "code",
   "execution_count": 2,
   "metadata": {},
   "outputs": [],
   "source": [
    "# This model maps an input to its encoded representation\n",
    "encoder = keras.Model(input_img, encoded)"
   ]
  },
  {
   "cell_type": "markdown",
   "metadata": {},
   "source": [
    "Decoder model:"
   ]
  },
  {
   "cell_type": "code",
   "execution_count": 3,
   "metadata": {},
   "outputs": [],
   "source": [
    "# This is our encoded (32-dimensional) input\n",
    "encoded_input = keras.Input(shape=(encoding_dim,))\n",
    "\n",
    "# Retrieve the last layer of the autoencoder model\n",
    "decoder_layer = autoencoder.layers[-1]\n",
    "\n",
    "# Create the decoder model\n",
    "decoder = keras.Model(encoded_input, decoder_layer(encoded_input))"
   ]
  },
  {
   "cell_type": "markdown",
   "metadata": {},
   "source": [
    "Train autoencoder to reconstruct MNIST digits.\n",
    "Configure model to use a per-pixel binary crossentropy loss, and the Adam optimizer."
   ]
  },
  {
   "cell_type": "code",
   "execution_count": 4,
   "metadata": {},
   "outputs": [],
   "source": [
    "autoencoder.compile(optimizer='adam', loss='binary_crossentropy')"
   ]
  },
  {
   "cell_type": "markdown",
   "metadata": {},
   "source": [
    "Prepare input data. Using MNIST digits, discarding the labels (since we're only interested in encoding/decoding the input images)."
   ]
  },
  {
   "cell_type": "code",
   "execution_count": 6,
   "metadata": {},
   "outputs": [],
   "source": [
    "from keras.datasets import mnist\n",
    "import numpy as np\n",
    "(x_train, _), (x_test, _) = mnist.load_data()"
   ]
  },
  {
   "cell_type": "markdown",
   "metadata": {},
   "source": [
    "Normalize all values between 0 and 1 and flatten the 28x28 images into vectors size of 784."
   ]
  },
  {
   "cell_type": "code",
   "execution_count": 7,
   "metadata": {},
   "outputs": [
    {
     "name": "stdout",
     "output_type": "stream",
     "text": [
      "(60000, 784)\n",
      "(10000, 784)\n"
     ]
    }
   ],
   "source": [
    "x_train = x_train.astype('float32') / 255.\n",
    "x_test = x_test.astype('float32') / 255.\n",
    "x_train = x_train.reshape((len(x_train), np.prod(x_train.shape[1:])))\n",
    "x_test = x_test.reshape((len(x_test), np.prod(x_test.shape[1:])))\n",
    "print(x_train.shape)\n",
    "print(x_test.shape)"
   ]
  },
  {
   "cell_type": "markdown",
   "metadata": {},
   "source": [
    "Train autoencoder for 50 epochs"
   ]
  },
  {
   "cell_type": "code",
   "execution_count": 8,
   "metadata": {},
   "outputs": [
    {
     "name": "stdout",
     "output_type": "stream",
     "text": [
      "Epoch 1/50\n",
      "235/235 [==============================] - 2s 6ms/step - loss: 0.2807 - val_loss: 0.1934\n",
      "Epoch 2/50\n",
      "235/235 [==============================] - 1s 5ms/step - loss: 0.1718 - val_loss: 0.1530\n",
      "Epoch 3/50\n",
      "235/235 [==============================] - 1s 5ms/step - loss: 0.1437 - val_loss: 0.1333\n",
      "Epoch 4/50\n",
      "235/235 [==============================] - 1s 5ms/step - loss: 0.1285 - val_loss: 0.1215\n",
      "Epoch 5/50\n",
      "235/235 [==============================] - 1s 6ms/step - loss: 0.1188 - val_loss: 0.1136\n",
      "Epoch 6/50\n",
      "235/235 [==============================] - 1s 5ms/step - loss: 0.1122 - val_loss: 0.1082\n",
      "Epoch 7/50\n",
      "235/235 [==============================] - 1s 6ms/step - loss: 0.1072 - val_loss: 0.1038\n",
      "Epoch 8/50\n",
      "235/235 [==============================] - 1s 5ms/step - loss: 0.1033 - val_loss: 0.1004\n",
      "Epoch 9/50\n",
      "235/235 [==============================] - 1s 5ms/step - loss: 0.1004 - val_loss: 0.0979\n",
      "Epoch 10/50\n",
      "235/235 [==============================] - 1s 6ms/step - loss: 0.0984 - val_loss: 0.0963\n",
      "Epoch 11/50\n",
      "235/235 [==============================] - 1s 5ms/step - loss: 0.0969 - val_loss: 0.0951\n",
      "Epoch 12/50\n",
      "235/235 [==============================] - 1s 6ms/step - loss: 0.0960 - val_loss: 0.0943\n",
      "Epoch 13/50\n",
      "235/235 [==============================] - 1s 6ms/step - loss: 0.0953 - val_loss: 0.0937\n",
      "Epoch 14/50\n",
      "235/235 [==============================] - 1s 6ms/step - loss: 0.0948 - val_loss: 0.0934\n",
      "Epoch 15/50\n",
      "235/235 [==============================] - 1s 6ms/step - loss: 0.0945 - val_loss: 0.0931\n",
      "Epoch 16/50\n",
      "235/235 [==============================] - 1s 5ms/step - loss: 0.0942 - val_loss: 0.0929\n",
      "Epoch 17/50\n",
      "235/235 [==============================] - 1s 6ms/step - loss: 0.0940 - val_loss: 0.0926\n",
      "Epoch 18/50\n",
      "235/235 [==============================] - 1s 6ms/step - loss: 0.0939 - val_loss: 0.0925\n",
      "Epoch 19/50\n",
      "235/235 [==============================] - 1s 6ms/step - loss: 0.0937 - val_loss: 0.0924\n",
      "Epoch 20/50\n",
      "235/235 [==============================] - 1s 5ms/step - loss: 0.0936 - val_loss: 0.0924\n",
      "Epoch 21/50\n",
      "235/235 [==============================] - 1s 5ms/step - loss: 0.0935 - val_loss: 0.0922\n",
      "Epoch 22/50\n",
      "235/235 [==============================] - 1s 6ms/step - loss: 0.0934 - val_loss: 0.0922\n",
      "Epoch 23/50\n",
      "235/235 [==============================] - 1s 6ms/step - loss: 0.0933 - val_loss: 0.0921\n",
      "Epoch 24/50\n",
      "235/235 [==============================] - 1s 6ms/step - loss: 0.0933 - val_loss: 0.0920\n",
      "Epoch 25/50\n",
      "235/235 [==============================] - 1s 6ms/step - loss: 0.0932 - val_loss: 0.0920\n",
      "Epoch 26/50\n",
      "235/235 [==============================] - 1s 6ms/step - loss: 0.0931 - val_loss: 0.0919\n",
      "Epoch 27/50\n",
      "235/235 [==============================] - 1s 6ms/step - loss: 0.0931 - val_loss: 0.0919\n",
      "Epoch 28/50\n",
      "235/235 [==============================] - 1s 5ms/step - loss: 0.0930 - val_loss: 0.0919\n",
      "Epoch 29/50\n",
      "235/235 [==============================] - 1s 6ms/step - loss: 0.0930 - val_loss: 0.0917\n",
      "Epoch 30/50\n",
      "235/235 [==============================] - 1s 6ms/step - loss: 0.0930 - val_loss: 0.0918\n",
      "Epoch 31/50\n",
      "235/235 [==============================] - 1s 5ms/step - loss: 0.0929 - val_loss: 0.0918\n",
      "Epoch 32/50\n",
      "235/235 [==============================] - 1s 6ms/step - loss: 0.0929 - val_loss: 0.0917\n",
      "Epoch 33/50\n",
      "235/235 [==============================] - 1s 5ms/step - loss: 0.0928 - val_loss: 0.0916\n",
      "Epoch 34/50\n",
      "235/235 [==============================] - 1s 6ms/step - loss: 0.0928 - val_loss: 0.0916\n",
      "Epoch 35/50\n",
      "235/235 [==============================] - 1s 6ms/step - loss: 0.0928 - val_loss: 0.0916\n",
      "Epoch 36/50\n",
      "235/235 [==============================] - 2s 7ms/step - loss: 0.0928 - val_loss: 0.0916\n",
      "Epoch 37/50\n",
      "235/235 [==============================] - 1s 6ms/step - loss: 0.0928 - val_loss: 0.0916\n",
      "Epoch 38/50\n",
      "235/235 [==============================] - 1s 6ms/step - loss: 0.0927 - val_loss: 0.0916\n",
      "Epoch 39/50\n",
      "235/235 [==============================] - 1s 5ms/step - loss: 0.0927 - val_loss: 0.0915\n",
      "Epoch 40/50\n",
      "235/235 [==============================] - 1s 4ms/step - loss: 0.0927 - val_loss: 0.0915\n",
      "Epoch 41/50\n",
      "235/235 [==============================] - 1s 6ms/step - loss: 0.0927 - val_loss: 0.0915\n",
      "Epoch 42/50\n",
      "235/235 [==============================] - 1s 6ms/step - loss: 0.0927 - val_loss: 0.0915\n",
      "Epoch 43/50\n",
      "235/235 [==============================] - 1s 6ms/step - loss: 0.0926 - val_loss: 0.0914\n",
      "Epoch 44/50\n",
      "235/235 [==============================] - 1s 6ms/step - loss: 0.0926 - val_loss: 0.0914\n",
      "Epoch 45/50\n",
      "235/235 [==============================] - 1s 6ms/step - loss: 0.0926 - val_loss: 0.0915\n",
      "Epoch 46/50\n",
      "235/235 [==============================] - 1s 5ms/step - loss: 0.0926 - val_loss: 0.0914\n",
      "Epoch 47/50\n",
      "235/235 [==============================] - 1s 6ms/step - loss: 0.0926 - val_loss: 0.0915\n",
      "Epoch 48/50\n",
      "235/235 [==============================] - 2s 7ms/step - loss: 0.0926 - val_loss: 0.0915\n",
      "Epoch 49/50\n",
      "235/235 [==============================] - 1s 6ms/step - loss: 0.0926 - val_loss: 0.0914\n",
      "Epoch 50/50\n",
      "235/235 [==============================] - 1s 6ms/step - loss: 0.0926 - val_loss: 0.0914\n"
     ]
    },
    {
     "data": {
      "text/plain": [
       "<tensorflow.python.keras.callbacks.History at 0x7ffe3ac214e0>"
      ]
     },
     "execution_count": 8,
     "metadata": {},
     "output_type": "execute_result"
    }
   ],
   "source": [
    "autoencoder.fit(x_train, x_train,\n",
    "               epochs=50,\n",
    "               batch_size=256,\n",
    "               shuffle=True,\n",
    "               validation_data=(x_test, x_test))"
   ]
  },
  {
   "cell_type": "markdown",
   "metadata": {},
   "source": [
    "After 50 epochs, the autoencoder seems to reach a stable train/validation loss value of about 0.09. Try to visualize the reconstructed inputs and the encoded representations. Use Matplotlib."
   ]
  },
  {
   "cell_type": "code",
   "execution_count": 9,
   "metadata": {},
   "outputs": [],
   "source": [
    "# Encode and decode some digits\n",
    "# Note that we take them from the *test* set\n",
    "encoded_imgs = encoder.predict(x_test)\n",
    "decoded_imgs = decoder.predict(encoded_imgs)"
   ]
  },
  {
   "cell_type": "code",
   "execution_count": 10,
   "metadata": {},
   "outputs": [
    {
     "data": {
      "image/png": "[encoded data removed]",
      "text/plain": [
       "<Figure size 1440x288 with 20 Axes>"
      ]
     },
     "metadata": {
      "needs_background": "light"
     },
     "output_type": "display_data"
    }
   ],
   "source": [
    "# Use Matplotlib\n",
    "import matplotlib.pyplot as plt\n",
    "\n",
    "n = 10 # How many digits we will display\n",
    "plt.figure(figsize=(20, 4))\n",
    "for i in range(n):\n",
    "    # Display original\n",
    "    ax = plt.subplot(2, n, i + 1)\n",
    "    plt.imshow(x_test[i].reshape(28, 28))\n",
    "    plt.gray()\n",
    "    ax.get_xaxis().set_visible(False)\n",
    "    ax.get_yaxis().set_visible(False)\n",
    "    \n",
    "    # Display reconstruction\n",
    "    ax = plt.subplot(2, n, i + 1 + n)\n",
    "    plt.imshow(decoded_imgs[i].reshape(28, 28))\n",
    "    plt.gray()\n",
    "    ax.get_xaxis().set_visible(False)\n",
    "    ax.get_yaxis().set_visible(False)\n",
    "plt.show()"
   ]
  },
  {
   "cell_type": "markdown",
   "metadata": {},
   "source": [
    "Top row - Original Digits\n",
    "Bottom row - reconstructed digits\n",
    "Lost quite a bit of detail on this basic approach."
   ]
  },
  {
   "cell_type": "markdown",
   "metadata": {},
   "source": [
    "Adding a sparsity constrain on the encoded representations\n",
    "\n",
    "In the previous example, the representations were only constrained by the size of the hidden layer (32). In such a situation, what typically happens is that the hidden layer is learning an approximation of PCA (Principal Component Analysis). Another way to constrain the representations to be compact is to add a sparsity constraint on the activity of the hidden representations, so fewer units would \"fire\" at a given time. In Keras, this can be done by adding an activity_regularizer to our Dense layer."
   ]
  },
  {
   "cell_type": "code",
   "execution_count": 12,
   "metadata": {},
   "outputs": [],
   "source": [
    "from keras import regularizers\n",
    "\n",
    "encoding_dim = 32\n",
    "\n",
    "input_img = keras.Input(shape=(784,))\n",
    "\n",
    "# Add a Dense layer with a L1 activity regularizer\n",
    "encoded = layers.Dense(encoding_dim, activation='relu',\n",
    "                      activity_regularizer=regularizers.l1(10e-5))(input_img)\n",
    "decoded = layers.Dense(784, activation='sigmoid')(encoded)\n",
    "\n",
    "autoencoder = keras.Model(input_img, decoded)"
   ]
  },
  {
   "cell_type": "markdown",
   "metadata": {},
   "source": [
    "Train this model for 100 epochs (with the added regularization the model is less likely to overfit and can be trained longer). The models ends with a train loss of 0.11 and test loss of 0.10. The difference between the two is mostly due to the regularization term being added to the loss during training (worth about 0.01)"
   ]
  },
  {
   "cell_type": "code",
   "execution_count": 14,
   "metadata": {},
   "outputs": [
    {
     "name": "stdout",
     "output_type": "stream",
     "text": [
      "Epoch 1/100\n",
      "235/235 [==============================] - 1s 5ms/step - loss: 0.2846 - val_loss: 0.1960\n",
      "Epoch 2/100\n",
      "235/235 [==============================] - 1s 5ms/step - loss: 0.1767 - val_loss: 0.1589\n",
      "Epoch 3/100\n",
      "235/235 [==============================] - 1s 5ms/step - loss: 0.1505 - val_loss: 0.1405\n",
      "Epoch 4/100\n",
      "235/235 [==============================] - 1s 5ms/step - loss: 0.1359 - val_loss: 0.1287\n",
      "Epoch 5/100\n",
      "235/235 [==============================] - 1s 5ms/step - loss: 0.1262 - val_loss: 0.1210\n",
      "Epoch 6/100\n",
      "235/235 [==============================] - 1s 5ms/step - loss: 0.1197 - val_loss: 0.1158\n",
      "Epoch 7/100\n",
      "235/235 [==============================] - 1s 5ms/step - loss: 0.1152 - val_loss: 0.1121\n",
      "Epoch 8/100\n",
      "235/235 [==============================] - 1s 5ms/step - loss: 0.1121 - val_loss: 0.1095\n",
      "Epoch 9/100\n",
      "235/235 [==============================] - 1s 6ms/step - loss: 0.1099 - val_loss: 0.1076\n",
      "Epoch 10/100\n",
      "235/235 [==============================] - 1s 5ms/step - loss: 0.1083 - val_loss: 0.1063\n",
      "Epoch 11/100\n",
      "235/235 [==============================] - 1s 6ms/step - loss: 0.1071 - val_loss: 0.1053\n",
      "Epoch 12/100\n",
      "235/235 [==============================] - 1s 5ms/step - loss: 0.1063 - val_loss: 0.1046\n",
      "Epoch 13/100\n",
      "235/235 [==============================] - 1s 6ms/step - loss: 0.1056 - val_loss: 0.1039\n",
      "Epoch 14/100\n",
      "235/235 [==============================] - 2s 7ms/step - loss: 0.1050 - val_loss: 0.1034\n",
      "Epoch 15/100\n",
      "235/235 [==============================] - 1s 6ms/step - loss: 0.1045 - val_loss: 0.1030\n",
      "Epoch 16/100\n",
      "235/235 [==============================] - 2s 7ms/step - loss: 0.1041 - val_loss: 0.1026\n",
      "Epoch 17/100\n",
      "235/235 [==============================] - 1s 5ms/step - loss: 0.1037 - val_loss: 0.1023\n",
      "Epoch 18/100\n",
      "235/235 [==============================] - 1s 5ms/step - loss: 0.1034 - val_loss: 0.1020\n",
      "Epoch 19/100\n",
      "235/235 [==============================] - 1s 6ms/step - loss: 0.1031 - val_loss: 0.1017\n",
      "Epoch 20/100\n",
      "235/235 [==============================] - 1s 6ms/step - loss: 0.1028 - val_loss: 0.1014\n",
      "Epoch 21/100\n",
      "235/235 [==============================] - 1s 6ms/step - loss: 0.1025 - val_loss: 0.1012\n",
      "Epoch 22/100\n",
      "235/235 [==============================] - 1s 6ms/step - loss: 0.1023 - val_loss: 0.1010\n",
      "Epoch 23/100\n",
      "235/235 [==============================] - 1s 5ms/step - loss: 0.1021 - val_loss: 0.1007\n",
      "Epoch 24/100\n",
      "235/235 [==============================] - 1s 4ms/step - loss: 0.1019 - val_loss: 0.1006\n",
      "Epoch 25/100\n",
      "235/235 [==============================] - 1s 5ms/step - loss: 0.1017 - val_loss: 0.1004\n",
      "Epoch 26/100\n",
      "235/235 [==============================] - 1s 4ms/step - loss: 0.1015 - val_loss: 0.1002\n",
      "Epoch 27/100\n",
      "235/235 [==============================] - 1s 4ms/step - loss: 0.1013 - val_loss: 0.1001\n",
      "Epoch 28/100\n",
      "235/235 [==============================] - 1s 5ms/step - loss: 0.1011 - val_loss: 0.0999\n",
      "Epoch 29/100\n",
      "235/235 [==============================] - 1s 5ms/step - loss: 0.1010 - val_loss: 0.0997\n",
      "Epoch 30/100\n",
      "235/235 [==============================] - 1s 5ms/step - loss: 0.1008 - val_loss: 0.0996\n",
      "Epoch 31/100\n",
      "235/235 [==============================] - 1s 6ms/step - loss: 0.1007 - val_loss: 0.0995\n",
      "Epoch 32/100\n",
      "235/235 [==============================] - 1s 5ms/step - loss: 0.1006 - val_loss: 0.0994\n",
      "Epoch 33/100\n",
      "235/235 [==============================] - 1s 5ms/step - loss: 0.1005 - val_loss: 0.0992\n",
      "Epoch 34/100\n",
      "235/235 [==============================] - 2s 7ms/step - loss: 0.1003 - val_loss: 0.0991\n",
      "Epoch 35/100\n",
      "235/235 [==============================] - 1s 6ms/step - loss: 0.1002 - val_loss: 0.0990\n",
      "Epoch 36/100\n",
      "235/235 [==============================] - 1s 5ms/step - loss: 0.1001 - val_loss: 0.0989\n",
      "Epoch 37/100\n",
      "235/235 [==============================] - 1s 5ms/step - loss: 0.1000 - val_loss: 0.0989\n",
      "Epoch 38/100\n",
      "235/235 [==============================] - 1s 5ms/step - loss: 0.0999 - val_loss: 0.0987\n",
      "Epoch 39/100\n",
      "235/235 [==============================] - 1s 5ms/step - loss: 0.0998 - val_loss: 0.0986\n",
      "Epoch 40/100\n",
      "235/235 [==============================] - 1s 5ms/step - loss: 0.0997 - val_loss: 0.0985\n",
      "Epoch 41/100\n",
      "235/235 [==============================] - 1s 5ms/step - loss: 0.0996 - val_loss: 0.0985\n",
      "Epoch 42/100\n",
      "235/235 [==============================] - 1s 5ms/step - loss: 0.0995 - val_loss: 0.0983\n",
      "Epoch 43/100\n",
      "235/235 [==============================] - 1s 5ms/step - loss: 0.0994 - val_loss: 0.0983\n",
      "Epoch 44/100\n",
      "235/235 [==============================] - 1s 5ms/step - loss: 0.0993 - val_loss: 0.0982\n",
      "Epoch 45/100\n",
      "235/235 [==============================] - 1s 6ms/step - loss: 0.0992 - val_loss: 0.0981\n",
      "Epoch 46/100\n",
      "235/235 [==============================] - 1s 5ms/step - loss: 0.0992 - val_loss: 0.0980\n",
      "Epoch 47/100\n",
      "235/235 [==============================] - 1s 5ms/step - loss: 0.0991 - val_loss: 0.0980\n",
      "Epoch 48/100\n",
      "235/235 [==============================] - 1s 5ms/step - loss: 0.0990 - val_loss: 0.0979\n",
      "Epoch 49/100\n",
      "235/235 [==============================] - 1s 6ms/step - loss: 0.0990 - val_loss: 0.0978\n",
      "Epoch 50/100\n",
      "235/235 [==============================] - 2s 7ms/step - loss: 0.0989 - val_loss: 0.0977\n",
      "Epoch 51/100\n",
      "235/235 [==============================] - 1s 6ms/step - loss: 0.0988 - val_loss: 0.0976\n",
      "Epoch 52/100\n",
      "235/235 [==============================] - 1s 6ms/step - loss: 0.0988 - val_loss: 0.0977\n",
      "Epoch 53/100\n",
      "235/235 [==============================] - 1s 6ms/step - loss: 0.0987 - val_loss: 0.0976\n",
      "Epoch 54/100\n",
      "235/235 [==============================] - 1s 6ms/step - loss: 0.0986 - val_loss: 0.0977\n",
      "Epoch 55/100\n",
      "235/235 [==============================] - 2s 7ms/step - loss: 0.0986 - val_loss: 0.0975\n",
      "Epoch 56/100\n",
      "235/235 [==============================] - 1s 5ms/step - loss: 0.0985 - val_loss: 0.0974\n",
      "Epoch 57/100\n",
      "235/235 [==============================] - 1s 6ms/step - loss: 0.0985 - val_loss: 0.0974\n",
      "Epoch 58/100\n",
      "235/235 [==============================] - 1s 6ms/step - loss: 0.0984 - val_loss: 0.0973\n",
      "Epoch 59/100\n",
      "235/235 [==============================] - 1s 6ms/step - loss: 0.0984 - val_loss: 0.0972\n",
      "Epoch 60/100\n",
      "235/235 [==============================] - 1s 6ms/step - loss: 0.0983 - val_loss: 0.0972\n",
      "Epoch 61/100\n",
      "235/235 [==============================] - 1s 5ms/step - loss: 0.0983 - val_loss: 0.0972\n",
      "Epoch 62/100\n",
      "235/235 [==============================] - 1s 6ms/step - loss: 0.0982 - val_loss: 0.0971\n",
      "Epoch 63/100\n",
      "235/235 [==============================] - 2s 7ms/step - loss: 0.0982 - val_loss: 0.0970\n",
      "Epoch 64/100\n",
      "235/235 [==============================] - 1s 5ms/step - loss: 0.0981 - val_loss: 0.0970\n",
      "Epoch 65/100\n",
      "235/235 [==============================] - 1s 5ms/step - loss: 0.0981 - val_loss: 0.0970\n",
      "Epoch 66/100\n",
      "235/235 [==============================] - 1s 5ms/step - loss: 0.0980 - val_loss: 0.0970\n",
      "Epoch 67/100\n",
      "235/235 [==============================] - 1s 5ms/step - loss: 0.0980 - val_loss: 0.0969\n",
      "Epoch 68/100\n",
      "235/235 [==============================] - 1s 5ms/step - loss: 0.0979 - val_loss: 0.0968\n",
      "Epoch 69/100\n",
      "235/235 [==============================] - 1s 5ms/step - loss: 0.0979 - val_loss: 0.0968\n",
      "Epoch 70/100\n",
      "235/235 [==============================] - 1s 5ms/step - loss: 0.0979 - val_loss: 0.0968\n",
      "Epoch 71/100\n",
      "235/235 [==============================] - 1s 4ms/step - loss: 0.0978 - val_loss: 0.0967\n",
      "Epoch 72/100\n",
      "235/235 [==============================] - 1s 5ms/step - loss: 0.0978 - val_loss: 0.0968\n",
      "Epoch 73/100\n",
      "235/235 [==============================] - 1s 5ms/step - loss: 0.0977 - val_loss: 0.0966\n",
      "Epoch 74/100\n",
      "235/235 [==============================] - 1s 5ms/step - loss: 0.0977 - val_loss: 0.0966\n",
      "Epoch 75/100\n",
      "235/235 [==============================] - 1s 5ms/step - loss: 0.0977 - val_loss: 0.0966\n",
      "Epoch 76/100\n",
      "235/235 [==============================] - 1s 6ms/step - loss: 0.0976 - val_loss: 0.0966\n",
      "Epoch 77/100\n",
      "235/235 [==============================] - 1s 6ms/step - loss: 0.0976 - val_loss: 0.0965\n",
      "Epoch 78/100\n",
      "235/235 [==============================] - 1s 5ms/step - loss: 0.0976 - val_loss: 0.0965\n",
      "Epoch 79/100\n",
      "235/235 [==============================] - 1s 5ms/step - loss: 0.0975 - val_loss: 0.0965\n",
      "Epoch 80/100\n",
      "235/235 [==============================] - 1s 5ms/step - loss: 0.0975 - val_loss: 0.0964\n",
      "Epoch 81/100\n",
      "235/235 [==============================] - 1s 6ms/step - loss: 0.0975 - val_loss: 0.0964\n",
      "Epoch 82/100\n",
      "235/235 [==============================] - 1s 5ms/step - loss: 0.0974 - val_loss: 0.0964\n",
      "Epoch 83/100\n",
      "235/235 [==============================] - 1s 5ms/step - loss: 0.0974 - val_loss: 0.0963\n",
      "Epoch 84/100\n",
      "235/235 [==============================] - 1s 5ms/step - loss: 0.0974 - val_loss: 0.0963\n",
      "Epoch 85/100\n",
      "235/235 [==============================] - 1s 5ms/step - loss: 0.0973 - val_loss: 0.0962\n",
      "Epoch 86/100\n",
      "235/235 [==============================] - 1s 5ms/step - loss: 0.0973 - val_loss: 0.0962\n",
      "Epoch 87/100\n",
      "235/235 [==============================] - 1s 5ms/step - loss: 0.0973 - val_loss: 0.0962\n",
      "Epoch 88/100\n",
      "235/235 [==============================] - 1s 6ms/step - loss: 0.0972 - val_loss: 0.0962\n",
      "Epoch 89/100\n",
      "235/235 [==============================] - 1s 6ms/step - loss: 0.0972 - val_loss: 0.0961\n",
      "Epoch 90/100\n",
      "235/235 [==============================] - 1s 5ms/step - loss: 0.0972 - val_loss: 0.0961\n",
      "Epoch 91/100\n",
      "235/235 [==============================] - 1s 5ms/step - loss: 0.0971 - val_loss: 0.0961\n",
      "Epoch 92/100\n",
      "235/235 [==============================] - 1s 5ms/step - loss: 0.0971 - val_loss: 0.0961\n",
      "Epoch 93/100\n",
      "235/235 [==============================] - 2s 7ms/step - loss: 0.0971 - val_loss: 0.0961\n",
      "Epoch 94/100\n",
      "235/235 [==============================] - 1s 6ms/step - loss: 0.0971 - val_loss: 0.0960\n",
      "Epoch 95/100\n",
      "235/235 [==============================] - 1s 5ms/step - loss: 0.0970 - val_loss: 0.0960\n",
      "Epoch 96/100\n",
      "235/235 [==============================] - 1s 6ms/step - loss: 0.0970 - val_loss: 0.0960\n",
      "Epoch 97/100\n",
      "235/235 [==============================] - 1s 6ms/step - loss: 0.0970 - val_loss: 0.0959\n",
      "Epoch 98/100\n",
      "235/235 [==============================] - 1s 6ms/step - loss: 0.0970 - val_loss: 0.0959\n",
      "Epoch 99/100\n",
      "235/235 [==============================] - 1s 6ms/step - loss: 0.0969 - val_loss: 0.0959\n",
      "Epoch 100/100\n",
      "235/235 [==============================] - 2s 9ms/step - loss: 0.0969 - val_loss: 0.0959\n"
     ]
    },
    {
     "data": {
      "text/plain": [
       "<tensorflow.python.keras.callbacks.History at 0x7ffe10a89240>"
      ]
     },
     "execution_count": 14,
     "metadata": {},
     "output_type": "execute_result"
    }
   ],
   "source": [
    "autoencoder.compile(optimizer='adam', loss='binary_crossentropy')\n",
    "\n",
    "autoencoder.fit(x_train, x_train,\n",
    "               epochs=100,\n",
    "               batch_size=256,\n",
    "               shuffle=True,\n",
    "               validation_data=(x_test, x_test))"
   ]
  },
  {
   "cell_type": "code",
   "execution_count": 18,
   "metadata": {},
   "outputs": [
    {
     "data": {
      "image/png": "[encoded data removed]",
      "text/plain": [
       "<Figure size 1440x288 with 20 Axes>"
      ]
     },
     "metadata": {
      "needs_background": "light"
     },
     "output_type": "display_data"
    }
   ],
   "source": [
    "encoded_imgs = encoder.predict(x_test)\n",
    "decoded_imgs = decoder.predict(encoded_imgs)\n",
    "\n",
    "n = 10 # How many digits we will display\n",
    "plt.figure(figsize=(20, 4))\n",
    "for i in range(n):\n",
    "    # Display original\n",
    "    ax = plt.subplot(2, n, i + 1)\n",
    "    plt.imshow(x_test[i].reshape(28, 28))\n",
    "    plt.gray()\n",
    "    ax.get_xaxis().set_visible(False)\n",
    "    ax.get_yaxis().set_visible(False)\n",
    "    \n",
    "    # Display reconstruction\n",
    "    ax = plt.subplot(2, n, i + 1 + n)\n",
    "    plt.imshow(decoded_imgs[i].reshape(28, 28))\n",
    "    plt.gray()\n",
    "    ax.get_xaxis().set_visible(False)\n",
    "    ax.get_yaxis().set_visible(False)\n",
    "plt.show()"
   ]
  },
  {
   "cell_type": "markdown",
   "metadata": {},
   "source": [
    "Convolutional autoencoder\n",
    "\n",
    "Since our input are images, it makes sense to use convolutional neural networks (convnets) as encoders and decoders. In practical settings, autoencoders applied to images are always convolutional autoencoders -- they simply perform much better.\n",
    "\n",
    "Let's implement one. The encoder will consist in a stack of Conv2D and MaxPooling layers (max pooling being used for spatial down-sampling), while decoder will consist in a stach of Conv2D and UpSampling2D layers."
   ]
  },
  {
   "cell_type": "code",
   "execution_count": 20,
   "metadata": {},
   "outputs": [],
   "source": [
    "import keras\n",
    "from keras import layers\n",
    "\n",
    "input_img = keras.Input(shape=(28, 28, 1))\n",
    "\n",
    "x = layers.Conv2D(16, (3, 3), activation='relu', padding='same')(input_img)\n",
    "x = layers.MaxPooling2D((2, 2), padding='same')(x)\n",
    "x = layers.Conv2D(8, (3, 3), activation='relu', padding='same')(x)\n",
    "x = layers.MaxPooling2D((2, 2), padding='same')(x)\n",
    "x = layers.Conv2D(8, (3, 3), activation='relu', padding='same')(x)\n",
    "encoded = layers.MaxPooling2D((2, 2), padding='same')(x)\n",
    "\n",
    "# at this point the representation is (4, 4, 8) i.e. 128-dimensional\n",
    "\n",
    "x = layers.Conv2D(8, (3, 3), activation='relu', padding='same')(encoded)\n",
    "x = layers.UpSampling2D((2, 2))(x)\n",
    "x = layers.Conv2D(8, (3, 3), activation='relu', padding='same')(x)\n",
    "x = layers.UpSampling2D((2, 2))(x)\n",
    "x = layers.Conv2D(16, (3, 3), activation='relu')(x)\n",
    "x = layers.UpSampling2D((2, 2))(x)\n",
    "decoded = layers.Conv2D(1, (3, 3), activation='sigmoid', padding='same')(x)\n",
    "\n",
    "autoencoder = keras.Model(input_img, decoded)\n",
    "autoencoder.compile(optimizer='adam', loss='binary_crossentropy')"
   ]
  },
  {
   "cell_type": "markdown",
   "metadata": {},
   "source": [
    "To train it, we will use the original MNIST digits with shape (samples, 3, 28, 28), and we will just normalize pixel values between 0 and 1."
   ]
  },
  {
   "cell_type": "code",
   "execution_count": 21,
   "metadata": {},
   "outputs": [],
   "source": [
    "from keras.datasets import mnist\n",
    "import numpy as np\n",
    "\n",
    "(x_train, _), (x_test, _) = mnist.load_data()\n",
    "\n",
    "x_train = x_train.astype('float32') / 255.\n",
    "x_test = x_test.astype('float32') / 255.\n",
    "x_train = np.reshape(x_train, (len(x_train), 28, 28, 1))\n",
    "x_test = np.reshape(x_test, (len(x_test), 28, 28, 1))\n"
   ]
  },
  {
   "cell_type": "markdown",
   "metadata": {},
   "source": [
    "Train the model for 50 epochs. For the sake of demonstrating how to visualize the results of a model during training, we will be using the TensorFlow backend and the TensorBoard callback.\n",
    "\n",
    "Train the model. In the callbacks list, pass an instance of the TensorBoard callback. After every epoch, this callback will write logs to /tmp/autoencoder, which can be read by our TensorBoard server."
   ]
  },
  {
   "cell_type": "code",
   "execution_count": 23,
   "metadata": {},
   "outputs": [
    {
     "name": "stdout",
     "output_type": "stream",
     "text": [
      "Epoch 1/50\n",
      "  1/469 [..............................] - ETA: 0s - loss: 0.6917WARNING:tensorflow:From /opt/anaconda3/envs/U4-S1-NLP/lib/python3.7/site-packages/tensorflow/python/ops/summary_ops_v2.py:1277: stop (from tensorflow.python.eager.profiler) is deprecated and will be removed after 2020-07-01.\n",
      "Instructions for updating:\n",
      "use `tf.profiler.experimental.stop` instead.\n",
      "469/469 [==============================] - 60s 127ms/step - loss: 0.2086 - val_loss: 0.1414\n",
      "Epoch 2/50\n",
      "469/469 [==============================] - 57s 121ms/step - loss: 0.1324 - val_loss: 0.1245\n",
      "Epoch 3/50\n",
      "469/469 [==============================] - 55s 118ms/step - loss: 0.1216 - val_loss: 0.1177\n",
      "Epoch 4/50\n",
      "469/469 [==============================] - 56s 119ms/step - loss: 0.1158 - val_loss: 0.1125\n",
      "Epoch 5/50\n",
      "469/469 [==============================] - 57s 122ms/step - loss: 0.1118 - val_loss: 0.1088\n",
      "Epoch 6/50\n",
      "469/469 [==============================] - 58s 124ms/step - loss: 0.1089 - val_loss: 0.1063\n",
      "Epoch 7/50\n",
      "469/469 [==============================] - 53s 114ms/step - loss: 0.1066 - val_loss: 0.1045\n",
      "Epoch 8/50\n",
      "469/469 [==============================] - 55s 118ms/step - loss: 0.1049 - val_loss: 0.1028\n",
      "Epoch 9/50\n",
      "469/469 [==============================] - 56s 118ms/step - loss: 0.1035 - val_loss: 0.1017\n",
      "Epoch 10/50\n",
      "469/469 [==============================] - 53s 113ms/step - loss: 0.1023 - val_loss: 0.1005\n",
      "Epoch 11/50\n",
      "469/469 [==============================] - 54s 114ms/step - loss: 0.1013 - val_loss: 0.1000\n",
      "Epoch 12/50\n",
      "469/469 [==============================] - 49s 104ms/step - loss: 0.1004 - val_loss: 0.0988\n",
      "Epoch 13/50\n",
      "469/469 [==============================] - 50s 107ms/step - loss: 0.0996 - val_loss: 0.0982\n",
      "Epoch 14/50\n",
      "469/469 [==============================] - 50s 106ms/step - loss: 0.0989 - val_loss: 0.0974\n",
      "Epoch 15/50\n",
      "469/469 [==============================] - 50s 107ms/step - loss: 0.0983 - val_loss: 0.0966\n",
      "Epoch 16/50\n",
      "469/469 [==============================] - 50s 108ms/step - loss: 0.0978 - val_loss: 0.0962\n",
      "Epoch 17/50\n",
      "469/469 [==============================] - 50s 107ms/step - loss: 0.0972 - val_loss: 0.0959\n",
      "Epoch 18/50\n",
      "469/469 [==============================] - 50s 106ms/step - loss: 0.0968 - val_loss: 0.0961\n",
      "Epoch 19/50\n",
      "469/469 [==============================] - 51s 108ms/step - loss: 0.0965 - val_loss: 0.0950\n",
      "Epoch 20/50\n",
      "469/469 [==============================] - 50s 107ms/step - loss: 0.0961 - val_loss: 0.0947\n",
      "Epoch 21/50\n",
      "469/469 [==============================] - 51s 109ms/step - loss: 0.0958 - val_loss: 0.0946\n",
      "Epoch 22/50\n",
      "469/469 [==============================] - 51s 109ms/step - loss: 0.0955 - val_loss: 0.0947\n",
      "Epoch 23/50\n",
      "469/469 [==============================] - 51s 109ms/step - loss: 0.0952 - val_loss: 0.0939\n",
      "Epoch 24/50\n",
      "469/469 [==============================] - 52s 111ms/step - loss: 0.0949 - val_loss: 0.0938\n",
      "Epoch 25/50\n",
      "469/469 [==============================] - 50s 107ms/step - loss: 0.0947 - val_loss: 0.0934\n",
      "Epoch 26/50\n",
      "469/469 [==============================] - 52s 111ms/step - loss: 0.0945 - val_loss: 0.0934\n",
      "Epoch 27/50\n",
      "469/469 [==============================] - 51s 108ms/step - loss: 0.0942 - val_loss: 0.0929\n",
      "Epoch 28/50\n",
      "469/469 [==============================] - 50s 107ms/step - loss: 0.0940 - val_loss: 0.0927\n",
      "Epoch 29/50\n",
      "469/469 [==============================] - 51s 108ms/step - loss: 0.0938 - val_loss: 0.0926\n",
      "Epoch 30/50\n",
      "469/469 [==============================] - 51s 108ms/step - loss: 0.0936 - val_loss: 0.0926\n",
      "Epoch 31/50\n",
      "469/469 [==============================] - 53s 113ms/step - loss: 0.0935 - val_loss: 0.0931\n",
      "Epoch 32/50\n",
      "469/469 [==============================] - 52s 112ms/step - loss: 0.0933 - val_loss: 0.0927\n",
      "Epoch 33/50\n",
      "469/469 [==============================] - 53s 112ms/step - loss: 0.0931 - val_loss: 0.0928\n",
      "Epoch 34/50\n",
      "469/469 [==============================] - 54s 114ms/step - loss: 0.0930 - val_loss: 0.0924\n",
      "Epoch 35/50\n",
      "469/469 [==============================] - 53s 114ms/step - loss: 0.0928 - val_loss: 0.0914\n",
      "Epoch 36/50\n",
      "469/469 [==============================] - 52s 110ms/step - loss: 0.0927 - val_loss: 0.0920\n",
      "Epoch 37/50\n",
      "469/469 [==============================] - 51s 109ms/step - loss: 0.0925 - val_loss: 0.0917\n",
      "Epoch 38/50\n",
      "469/469 [==============================] - 52s 111ms/step - loss: 0.0924 - val_loss: 0.0913\n",
      "Epoch 39/50\n",
      "469/469 [==============================] - 52s 111ms/step - loss: 0.0922 - val_loss: 0.0912\n",
      "Epoch 40/50\n",
      "469/469 [==============================] - 52s 111ms/step - loss: 0.0921 - val_loss: 0.0909\n",
      "Epoch 41/50\n",
      "469/469 [==============================] - 52s 112ms/step - loss: 0.0920 - val_loss: 0.0909\n",
      "Epoch 42/50\n",
      "469/469 [==============================] - 52s 112ms/step - loss: 0.0919 - val_loss: 0.0907\n",
      "Epoch 43/50\n",
      "469/469 [==============================] - 53s 112ms/step - loss: 0.0917 - val_loss: 0.0907\n",
      "Epoch 44/50\n",
      "469/469 [==============================] - 53s 112ms/step - loss: 0.0917 - val_loss: 0.0907\n",
      "Epoch 45/50\n",
      "469/469 [==============================] - 53s 112ms/step - loss: 0.0916 - val_loss: 0.0906\n",
      "Epoch 46/50\n",
      "469/469 [==============================] - 53s 113ms/step - loss: 0.0915 - val_loss: 0.0903\n",
      "Epoch 47/50\n",
      "469/469 [==============================] - 53s 112ms/step - loss: 0.0914 - val_loss: 0.0902\n",
      "Epoch 48/50\n",
      "469/469 [==============================] - 53s 113ms/step - loss: 0.0913 - val_loss: 0.0902\n",
      "Epoch 49/50\n",
      "469/469 [==============================] - 53s 112ms/step - loss: 0.0912 - val_loss: 0.0902\n",
      "Epoch 50/50\n",
      "469/469 [==============================] - 53s 113ms/step - loss: 0.0911 - val_loss: 0.0901\n"
     ]
    },
    {
     "data": {
      "text/plain": [
       "<tensorflow.python.keras.callbacks.History at 0x7ffe101699b0>"
      ]
     },
     "execution_count": 23,
     "metadata": {},
     "output_type": "execute_result"
    }
   ],
   "source": [
    "from keras.callbacks import TensorBoard\n",
    "\n",
    "autoencoder.fit(x_train, x_train,\n",
    "                epochs=50,\n",
    "                batch_size=128,\n",
    "                shuffle=True,\n",
    "                validation_data=(x_test, x_test),\n",
    "                callbacks=[TensorBoard(log_dir='tmp/autoencoder')])"
   ]
  },
  {
   "cell_type": "markdown",
   "metadata": {},
   "source": [
    "The model converges to a loss of 0.094, significantly better than our previous models (this is in large part due to the higher entropic capacity of the encoded representation, 128 dimensions vs 32 previously). Take a look at the reconstructed digits:"
   ]
  },
  {
   "cell_type": "code",
   "execution_count": 24,
   "metadata": {},
   "outputs": [
    {
     "data": {
      "image/png": "[encoded data removed]",
      "text/plain": [
       "<Figure size 1440x288 with 20 Axes>"
      ]
     },
     "metadata": {
      "needs_background": "light"
     },
     "output_type": "display_data"
    }
   ],
   "source": [
    "decoded_imgs = autoencoder.predict(x_test)\n",
    "\n",
    "n = 10\n",
    "plt.figure(figsize=(20, 4))\n",
    "for i in range(1, n + 1):\n",
    "    # Display original\n",
    "    ax = plt.subplot(2, n, i)\n",
    "    plt.imshow(x_test[i].reshape(28, 28))\n",
    "    plt.gray()\n",
    "    ax.get_xaxis().set_visible(False)\n",
    "    ax.get_yaxis().set_visible(False)\n",
    "    \n",
    "    # Display reconstruction\n",
    "    ax = plt.subplot(2, n, i + n)\n",
    "    plt.imshow(decoded_imgs[i].reshape(28, 28))\n",
    "    plt.gray()\n",
    "    ax.get_xaxis().set_visible(False)\n",
    "    ax.get_yaxis().set_visible(False)\n",
    "plt.show()"
   ]
  },
  {
   "cell_type": "markdown",
   "metadata": {},
   "source": [
    "Also have a look at the 128-dimensional encoded representations. These representations are 8x4x4, so we reshape them to 4x32 in order to be able to display them as grayscale images."
   ]
  },
  {
   "cell_type": "code",
   "execution_count": 25,
   "metadata": {},
   "outputs": [
    {
     "data": {
      "image/png": "[encoded data removed]",
      "text/plain": [
       "<Figure size 1440x576 with 10 Axes>"
      ]
     },
     "metadata": {
      "needs_background": "light"
     },
     "output_type": "display_data"
    }
   ],
   "source": [
    "encoder = keras.Model(input_img, encoded)\n",
    "encoded_imgs = encoder.predict(x_test)\n",
    "\n",
    "n = 10\n",
    "plt.figure(figsize=(20, 8))\n",
    "for i in range(1, n + 1):\n",
    "    ax = plt.subplot(1, n, i)\n",
    "    plt.imshow(encoded_imgs[i].reshape((4, 4 * 8)).T)\n",
    "    plt.gray()\n",
    "    ax.get_xaxis().set_visible(False)\n",
    "    ax.get_yaxis().set_visible(False)\n",
    "plt.show()"
   ]
  },
  {
   "cell_type": "markdown",
   "metadata": {},
   "source": [
    "Application to image denoising\n",
    "\n",
    "Put the convolutional autoencoder to work on an image denoising problem. Train the autoencoder to map noisy digits images to clean digits images.\n",
    "\n",
    "Here's how to generate synthetic noisy digits: just apply a gaussian noise matrix and clip the images between 0 and 1."
   ]
  },
  {
   "cell_type": "code",
   "execution_count": 3,
   "metadata": {},
   "outputs": [
    {
     "data": {
      "image/png": "[encoded data removed]",
      "text/plain": [
       "<Figure size 1440x144 with 10 Axes>"
      ]
     },
     "metadata": {
      "needs_background": "light"
     },
     "output_type": "display_data"
    }
   ],
   "source": [
    "from keras.datasets import mnist\n",
    "import numpy as np\n",
    "\n",
    "(x_train, _), (x_test, _) = mnist.load_data()\n",
    "\n",
    "x_train = x_train.astype('float32') / 255.\n",
    "x_test = x_test.astype('float32') / 255.\n",
    "x_train = np.reshape(x_train, (len(x_train), 28, 28, 1))\n",
    "x_test = np.reshape(x_test, (len(x_test), 28, 28, 1))\n",
    "\n",
    "noise_factor = 0.5\n",
    "x_train_noisy = x_train + noise_factor * np.random.normal(loc=0.0, scale=1.0, size=x_train.shape) \n",
    "x_test_noisy = x_test + noise_factor * np.random.normal(loc=0.0, scale=1.0, size=x_test.shape) \n",
    "\n",
    "x_train_noisy = np.clip(x_train_noisy, 0., 1.)\n",
    "x_test_noisy = np.clip(x_test_noisy, 0., 1.)\n",
    "\n",
    "# here's what the noisy digits look like:\n",
    "import matplotlib.pyplot as plt\n",
    "\n",
    "n = 10\n",
    "plt.figure(figsize=(20, 2))\n",
    "for i in range(1, n + 1):\n",
    "    ax = plt.subplot(1, n, i)\n",
    "    plt.imshow(x_test_noisy[i].reshape(28, 28))\n",
    "    plt.gray()\n",
    "    ax.get_xaxis().set_visible(False)\n",
    "    ax.get_yaxis().set_visible(False)\n",
    "plt.show()"
   ]
  },
  {
   "cell_type": "markdown",
   "metadata": {},
   "source": [
    "If you squint you can still recognize them, but barely. Can our autoencoder learn to recover the original digits? Let's find out.\n",
    "\n",
    "Compared to the previous convolutional autoencoder, in order to improve the quality of the reconstructed, we'll use a slightly different model with more filters per layer:"
   ]
  },
  {
   "cell_type": "code",
   "execution_count": 7,
   "metadata": {},
   "outputs": [
    {
     "name": "stdout",
     "output_type": "stream",
     "text": [
      "Epoch 1/100\n",
      "  1/469 [..............................] - ETA: 0s - loss: 0.6600WARNING:tensorflow:From /opt/anaconda3/envs/U4-S1-NLP/lib/python3.7/site-packages/tensorflow/python/ops/summary_ops_v2.py:1277: stop (from tensorflow.python.eager.profiler) is deprecated and will be removed after 2020-07-01.\n",
      "Instructions for updating:\n",
      "use `tf.profiler.experimental.stop` instead.\n",
      "469/469 [==============================] - 143s 305ms/step - loss: 0.1560 - val_loss: 0.1155\n",
      "Epoch 2/100\n",
      "469/469 [==============================] - 146s 311ms/step - loss: 0.1122 - val_loss: 0.1076\n",
      "Epoch 3/100\n",
      "469/469 [==============================] - 125s 267ms/step - loss: 0.1069 - val_loss: 0.1043\n",
      "Epoch 4/100\n",
      "469/469 [==============================] - 117s 249ms/step - loss: 0.1043 - val_loss: 0.1040\n",
      "Epoch 5/100\n",
      "469/469 [==============================] - 115s 246ms/step - loss: 0.1025 - val_loss: 0.1009\n",
      "Epoch 6/100\n",
      "469/469 [==============================] - 117s 250ms/step - loss: 0.1012 - val_loss: 0.1001\n",
      "Epoch 7/100\n",
      "469/469 [==============================] - 116s 248ms/step - loss: 0.1002 - val_loss: 0.0989\n",
      "Epoch 8/100\n",
      "469/469 [==============================] - 116s 247ms/step - loss: 0.0995 - val_loss: 0.0982\n",
      "Epoch 9/100\n",
      "469/469 [==============================] - 114s 243ms/step - loss: 0.0987 - val_loss: 0.0979\n",
      "Epoch 10/100\n",
      "469/469 [==============================] - 117s 249ms/step - loss: 0.0982 - val_loss: 0.0973\n",
      "Epoch 11/100\n",
      "469/469 [==============================] - 117s 249ms/step - loss: 0.0977 - val_loss: 0.0968\n",
      "Epoch 12/100\n",
      "469/469 [==============================] - 117s 248ms/step - loss: 0.0973 - val_loss: 0.0968\n",
      "Epoch 13/100\n",
      "469/469 [==============================] - 115s 246ms/step - loss: 0.0969 - val_loss: 0.0961\n",
      "Epoch 14/100\n",
      "469/469 [==============================] - 114s 244ms/step - loss: 0.0966 - val_loss: 0.0960\n",
      "Epoch 15/100\n",
      "469/469 [==============================] - 117s 250ms/step - loss: 0.0962 - val_loss: 0.0958\n",
      "Epoch 16/100\n",
      "469/469 [==============================] - 120s 257ms/step - loss: 0.0960 - val_loss: 0.0957\n",
      "Epoch 17/100\n",
      "469/469 [==============================] - 106s 226ms/step - loss: 0.0958 - val_loss: 0.0954\n",
      "Epoch 18/100\n",
      "469/469 [==============================] - 101s 215ms/step - loss: 0.0956 - val_loss: 0.0953\n",
      "Epoch 19/100\n",
      "469/469 [==============================] - 102s 218ms/step - loss: 0.0954 - val_loss: 0.0948\n",
      "Epoch 20/100\n",
      "469/469 [==============================] - 99s 210ms/step - loss: 0.0952 - val_loss: 0.0946\n",
      "Epoch 21/100\n",
      "469/469 [==============================] - 100s 213ms/step - loss: 0.0950 - val_loss: 0.0946\n",
      "Epoch 22/100\n",
      "469/469 [==============================] - 123s 263ms/step - loss: 0.0949 - val_loss: 0.0947\n",
      "Epoch 23/100\n",
      "469/469 [==============================] - 124s 264ms/step - loss: 0.0948 - val_loss: 0.0943\n",
      "Epoch 24/100\n",
      "469/469 [==============================] - 132s 282ms/step - loss: 0.0947 - val_loss: 0.0943\n",
      "Epoch 25/100\n",
      "469/469 [==============================] - 121s 257ms/step - loss: 0.0946 - val_loss: 0.0942\n",
      "Epoch 26/100\n",
      "469/469 [==============================] - 116s 247ms/step - loss: 0.0945 - val_loss: 0.0943\n",
      "Epoch 27/100\n",
      "469/469 [==============================] - 123s 263ms/step - loss: 0.0944 - val_loss: 0.0945\n",
      "Epoch 28/100\n",
      "469/469 [==============================] - 127s 271ms/step - loss: 0.0943 - val_loss: 0.0943\n",
      "Epoch 29/100\n",
      "469/469 [==============================] - 124s 264ms/step - loss: 0.0943 - val_loss: 0.0939\n",
      "Epoch 30/100\n",
      "469/469 [==============================] - 131s 279ms/step - loss: 0.0942 - val_loss: 0.0939\n",
      "Epoch 31/100\n",
      "469/469 [==============================] - 128s 272ms/step - loss: 0.0941 - val_loss: 0.0938\n",
      "Epoch 32/100\n",
      "469/469 [==============================] - 110s 235ms/step - loss: 0.0940 - val_loss: 0.0938\n",
      "Epoch 33/100\n",
      "469/469 [==============================] - 105s 223ms/step - loss: 0.0940 - val_loss: 0.0937\n",
      "Epoch 34/100\n",
      "469/469 [==============================] - 103s 220ms/step - loss: 0.0940 - val_loss: 0.0939\n",
      "Epoch 35/100\n",
      "469/469 [==============================] - 102s 217ms/step - loss: 0.0939 - val_loss: 0.0939\n",
      "Epoch 36/100\n",
      "469/469 [==============================] - 101s 215ms/step - loss: 0.0939 - val_loss: 0.0936\n",
      "Epoch 37/100\n",
      "469/469 [==============================] - 100s 214ms/step - loss: 0.0938 - val_loss: 0.0936\n",
      "Epoch 38/100\n",
      "469/469 [==============================] - 103s 219ms/step - loss: 0.0938 - val_loss: 0.0936\n",
      "Epoch 39/100\n",
      "469/469 [==============================] - 101s 214ms/step - loss: 0.0938 - val_loss: 0.0936\n",
      "Epoch 40/100\n",
      "469/469 [==============================] - 101s 216ms/step - loss: 0.0937 - val_loss: 0.0934\n",
      "Epoch 41/100\n",
      "469/469 [==============================] - 103s 219ms/step - loss: 0.0937 - val_loss: 0.0935\n",
      "Epoch 42/100\n",
      "469/469 [==============================] - 102s 218ms/step - loss: 0.0936 - val_loss: 0.0935\n",
      "Epoch 43/100\n",
      "469/469 [==============================] - 103s 220ms/step - loss: 0.0936 - val_loss: 0.0934\n",
      "Epoch 44/100\n",
      "469/469 [==============================] - 101s 215ms/step - loss: 0.0936 - val_loss: 0.0934\n",
      "Epoch 45/100\n",
      "469/469 [==============================] - 101s 215ms/step - loss: 0.0935 - val_loss: 0.0933\n",
      "Epoch 46/100\n",
      "469/469 [==============================] - 102s 218ms/step - loss: 0.0935 - val_loss: 0.0933\n",
      "Epoch 47/100\n",
      "469/469 [==============================] - 102s 218ms/step - loss: 0.0935 - val_loss: 0.0937\n",
      "Epoch 48/100\n",
      "469/469 [==============================] - 97s 208ms/step - loss: 0.0935 - val_loss: 0.0934\n",
      "Epoch 49/100\n",
      "469/469 [==============================] - 98s 208ms/step - loss: 0.0935 - val_loss: 0.0933\n",
      "Epoch 50/100\n",
      "469/469 [==============================] - 89s 191ms/step - loss: 0.0934 - val_loss: 0.0932\n",
      "Epoch 51/100\n",
      "469/469 [==============================] - 85s 182ms/step - loss: 0.0934 - val_loss: 0.0937\n",
      "Epoch 52/100\n",
      "469/469 [==============================] - 83s 178ms/step - loss: 0.0934 - val_loss: 0.0932\n",
      "Epoch 53/100\n",
      "469/469 [==============================] - 89s 190ms/step - loss: 0.0934 - val_loss: 0.0936\n",
      "Epoch 54/100\n",
      "469/469 [==============================] - 87s 186ms/step - loss: 0.0933 - val_loss: 0.0932\n",
      "Epoch 55/100\n",
      "469/469 [==============================] - 88s 187ms/step - loss: 0.0934 - val_loss: 0.0932\n",
      "Epoch 56/100\n",
      "469/469 [==============================] - 91s 195ms/step - loss: 0.0933 - val_loss: 0.0932\n",
      "Epoch 57/100\n",
      "469/469 [==============================] - 90s 192ms/step - loss: 0.0932 - val_loss: 0.0933\n",
      "Epoch 58/100\n",
      "469/469 [==============================] - 89s 191ms/step - loss: 0.0933 - val_loss: 0.0933\n",
      "Epoch 59/100\n",
      "469/469 [==============================] - 88s 188ms/step - loss: 0.0932 - val_loss: 0.0931\n",
      "Epoch 60/100\n",
      "469/469 [==============================] - 89s 191ms/step - loss: 0.0932 - val_loss: 0.0931\n",
      "Epoch 61/100\n",
      "469/469 [==============================] - 88s 188ms/step - loss: 0.0932 - val_loss: 0.0932\n",
      "Epoch 62/100\n",
      "469/469 [==============================] - 87s 186ms/step - loss: 0.0932 - val_loss: 0.0931\n",
      "Epoch 63/100\n",
      "469/469 [==============================] - 90s 192ms/step - loss: 0.0932 - val_loss: 0.0932\n",
      "Epoch 64/100\n",
      "469/469 [==============================] - 91s 193ms/step - loss: 0.0932 - val_loss: 0.0930\n",
      "Epoch 65/100\n",
      "469/469 [==============================] - 85s 181ms/step - loss: 0.0931 - val_loss: 0.0930\n",
      "Epoch 66/100\n",
      "469/469 [==============================] - 86s 184ms/step - loss: 0.0931 - val_loss: 0.0930\n",
      "Epoch 67/100\n",
      "469/469 [==============================] - 83s 176ms/step - loss: 0.0931 - val_loss: 0.0930\n",
      "Epoch 68/100\n",
      "469/469 [==============================] - 85s 181ms/step - loss: 0.0931 - val_loss: 0.0933\n",
      "Epoch 69/100\n",
      "469/469 [==============================] - 83s 178ms/step - loss: 0.0931 - val_loss: 0.0930\n",
      "Epoch 70/100\n",
      "469/469 [==============================] - 85s 181ms/step - loss: 0.0930 - val_loss: 0.0930\n",
      "Epoch 71/100\n",
      "469/469 [==============================] - 83s 178ms/step - loss: 0.0930 - val_loss: 0.0930\n",
      "Epoch 72/100\n",
      "469/469 [==============================] - 81s 173ms/step - loss: 0.0930 - val_loss: 0.0930\n",
      "Epoch 73/100\n",
      "469/469 [==============================] - 83s 176ms/step - loss: 0.0930 - val_loss: 0.0932\n",
      "Epoch 74/100\n",
      "469/469 [==============================] - 93s 198ms/step - loss: 0.0930 - val_loss: 0.0931\n",
      "Epoch 75/100\n",
      "469/469 [==============================] - 113s 240ms/step - loss: 0.0930 - val_loss: 0.0929\n",
      "Epoch 76/100\n",
      "469/469 [==============================] - 107s 229ms/step - loss: 0.0929 - val_loss: 0.0933\n",
      "Epoch 77/100\n",
      "469/469 [==============================] - 105s 225ms/step - loss: 0.0930 - val_loss: 0.0932\n",
      "Epoch 78/100\n",
      "469/469 [==============================] - 97s 207ms/step - loss: 0.0930 - val_loss: 0.0930\n",
      "Epoch 79/100\n",
      "469/469 [==============================] - 95s 203ms/step - loss: 0.0929 - val_loss: 0.0930\n",
      "Epoch 80/100\n",
      "469/469 [==============================] - 98s 209ms/step - loss: 0.0929 - val_loss: 0.0929\n",
      "Epoch 81/100\n",
      "469/469 [==============================] - 99s 211ms/step - loss: 0.0929 - val_loss: 0.0930\n",
      "Epoch 82/100\n",
      "469/469 [==============================] - 101s 214ms/step - loss: 0.0929 - val_loss: 0.0932\n",
      "Epoch 83/100\n",
      "469/469 [==============================] - 99s 210ms/step - loss: 0.0929 - val_loss: 0.0930\n",
      "Epoch 84/100\n",
      "469/469 [==============================] - 96s 204ms/step - loss: 0.0929 - val_loss: 0.0929\n",
      "Epoch 85/100\n",
      "469/469 [==============================] - 98s 210ms/step - loss: 0.0929 - val_loss: 0.0929\n",
      "Epoch 86/100\n",
      "469/469 [==============================] - 97s 207ms/step - loss: 0.0929 - val_loss: 0.0929\n",
      "Epoch 87/100\n",
      "469/469 [==============================] - 96s 206ms/step - loss: 0.0928 - val_loss: 0.0928\n",
      "Epoch 88/100\n",
      "469/469 [==============================] - 98s 208ms/step - loss: 0.0928 - val_loss: 0.0931\n",
      "Epoch 89/100\n",
      "469/469 [==============================] - 99s 211ms/step - loss: 0.0928 - val_loss: 0.0930\n",
      "Epoch 90/100\n",
      "469/469 [==============================] - 100s 213ms/step - loss: 0.0928 - val_loss: 0.0928\n",
      "Epoch 91/100\n",
      "469/469 [==============================] - 100s 212ms/step - loss: 0.0928 - val_loss: 0.0930\n",
      "Epoch 92/100\n",
      "469/469 [==============================] - 98s 209ms/step - loss: 0.0928 - val_loss: 0.0929\n",
      "Epoch 93/100\n",
      "469/469 [==============================] - 99s 211ms/step - loss: 0.0928 - val_loss: 0.0930\n",
      "Epoch 94/100\n",
      "469/469 [==============================] - 99s 211ms/step - loss: 0.0928 - val_loss: 0.0928\n",
      "Epoch 95/100\n",
      "469/469 [==============================] - 98s 208ms/step - loss: 0.0928 - val_loss: 0.0929\n",
      "Epoch 96/100\n",
      "469/469 [==============================] - 91s 194ms/step - loss: 0.0927 - val_loss: 0.0928\n",
      "Epoch 97/100\n",
      "469/469 [==============================] - 93s 198ms/step - loss: 0.0928 - val_loss: 0.0931\n",
      "Epoch 98/100\n",
      "469/469 [==============================] - 94s 201ms/step - loss: 0.0928 - val_loss: 0.0928\n",
      "Epoch 99/100\n",
      "469/469 [==============================] - 90s 192ms/step - loss: 0.0928 - val_loss: 0.0930\n",
      "Epoch 100/100\n",
      "469/469 [==============================] - 84s 179ms/step - loss: 0.0927 - val_loss: 0.0929\n"
     ]
    },
    {
     "data": {
      "text/plain": [
       "<tensorflow.python.keras.callbacks.History at 0x7fdaa7f635c0>"
      ]
     },
     "execution_count": 7,
     "metadata": {},
     "output_type": "execute_result"
    }
   ],
   "source": [
    "import keras\n",
    "from keras import layers\n",
    "from keras.callbacks import TensorBoard\n",
    "\n",
    "input_img = keras.Input(shape=(28, 28, 1))\n",
    "\n",
    "x = layers.Conv2D(32, (3, 3), activation='relu', padding='same')(input_img)\n",
    "x = layers.MaxPooling2D((2, 2), padding='same')(x)\n",
    "x = layers.Conv2D(32, (3, 3), activation='relu', padding='same')(x)\n",
    "encoded = layers.MaxPooling2D((2, 2), padding='same')(x)\n",
    "\n",
    "# At this point the representation is (7, 7, 32)\n",
    "\n",
    "x = layers.Conv2D(32, (3, 3), activation='relu', padding='same')(encoded)\n",
    "x = layers.UpSampling2D((2, 2))(x)\n",
    "x = layers.Conv2D(32, (3, 3), activation='relu', padding='same')(x)\n",
    "x = layers.UpSampling2D((2, 2))(x)\n",
    "decoded = layers.Conv2D(1, (3, 3), activation='sigmoid', padding='same')(x)\n",
    "\n",
    "autoencoder = keras.Model(input_img, decoded)\n",
    "autoencoder.compile(optimizer='adam', loss='binary_crossentropy')\n",
    "\n",
    "autoencoder.fit(x_train_noisy, x_train,\n",
    "                epochs=100,\n",
    "                batch_size=128,\n",
    "                shuffle=True,\n",
    "                validation_data=(x_test_noisy, x_test),\n",
    "                callbacks=[TensorBoard(log_dir='/tmp/tb', histogram_freq=0, write_graph=False)])"
   ]
  },
  {
   "cell_type": "code",
   "execution_count": null,
   "metadata": {},
   "outputs": [],
   "source": []
  }
 ],
 "metadata": {
  "kernelspec": {
   "display_name": "U4-S1-NLP",
   "language": "python",
   "name": "u4-s1-nlp"
  },
  "language_info": {
   "codemirror_mode": {
    "name": "ipython",
    "version": 3
   },
   "file_extension": ".py",
   "mimetype": "text/x-python",
   "name": "python",
   "nbconvert_exporter": "python",
   "pygments_lexer": "ipython3",
   "version": "3.7.0"
  }
 },
 "nbformat": 4,
 "nbformat_minor": 4
}
